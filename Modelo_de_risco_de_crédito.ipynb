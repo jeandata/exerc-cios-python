{
  "cells": [
    {
      "cell_type": "markdown",
      "metadata": {
        "id": "view-in-github",
        "colab_type": "text"
      },
      "source": [
        "<a href=\"https://colab.research.google.com/github/jeandata/projetos/blob/main/Modelo_de_risco_de_cr%C3%A9dito.ipynb\" target=\"_parent\"><img src=\"https://colab.research.google.com/assets/colab-badge.svg\" alt=\"Open In Colab\"/></a>"
      ]
    },
    {
      "cell_type": "markdown",
      "metadata": {
        "id": "zeIi7V195rxI"
      },
      "source": [
        "#Modelo de risco de crédito\n",
        "Este projeto visa a criação de um modelo para identificar transações fraudulentas utilizando um cartão de crédito.\n",
        "\n",
        "A base de dados possue os seguintes atributos:  \n",
        "*   Time: é a identificaçao do tempo.\n",
        "*   V1-V28: São dados criptografados que provavelmente sofreram o processo de PCA.\n",
        "*   Amount: Quantia da transação.  \n",
        "*   Class: Identifica se a transação é fraudulenta ou não.\n",
        "\n",
        "\n",
        "\n",
        "  \n",
        "\n",
        "\n"
      ]
    },
    {
      "cell_type": "code",
      "execution_count": null,
      "metadata": {
        "id": "JqNl7tJ1vBAq"
      },
      "outputs": [],
      "source": [
        "# Importação de biblioteca\n",
        "import pandas as pd"
      ]
    },
    {
      "cell_type": "code",
      "execution_count": null,
      "metadata": {
        "colab": {
          "base_uri": "https://localhost:8080/",
          "height": 392
        },
        "id": "sqXCvMKg5OQW",
        "outputId": "1b2fc650-5b00-4db3-9705-678e02d39f15"
      },
      "outputs": [
        {
          "data": {
            "application/vnd.google.colaboratory.intrinsic+json": {
              "type": "dataframe",
              "variable_name": "dados"
            },
            "text/html": [
              "\n",
              "  <div id=\"df-e33b6bfe-1081-4a98-b99b-38fefe04866c\" class=\"colab-df-container\">\n",
              "    <div>\n",
              "<style scoped>\n",
              "    .dataframe tbody tr th:only-of-type {\n",
              "        vertical-align: middle;\n",
              "    }\n",
              "\n",
              "    .dataframe tbody tr th {\n",
              "        vertical-align: top;\n",
              "    }\n",
              "\n",
              "    .dataframe thead th {\n",
              "        text-align: right;\n",
              "    }\n",
              "</style>\n",
              "<table border=\"1\" class=\"dataframe\">\n",
              "  <thead>\n",
              "    <tr style=\"text-align: right;\">\n",
              "      <th></th>\n",
              "      <th>Time</th>\n",
              "      <th>V1</th>\n",
              "      <th>V2</th>\n",
              "      <th>V3</th>\n",
              "      <th>V4</th>\n",
              "      <th>V5</th>\n",
              "      <th>V6</th>\n",
              "      <th>V7</th>\n",
              "      <th>V8</th>\n",
              "      <th>V9</th>\n",
              "      <th>...</th>\n",
              "      <th>V21</th>\n",
              "      <th>V22</th>\n",
              "      <th>V23</th>\n",
              "      <th>V24</th>\n",
              "      <th>V25</th>\n",
              "      <th>V26</th>\n",
              "      <th>V27</th>\n",
              "      <th>V28</th>\n",
              "      <th>Amount</th>\n",
              "      <th>Class</th>\n",
              "    </tr>\n",
              "  </thead>\n",
              "  <tbody>\n",
              "    <tr>\n",
              "      <th>0</th>\n",
              "      <td>0.0</td>\n",
              "      <td>-1.359807</td>\n",
              "      <td>-0.072781</td>\n",
              "      <td>2.536347</td>\n",
              "      <td>1.378155</td>\n",
              "      <td>-0.338321</td>\n",
              "      <td>0.462388</td>\n",
              "      <td>0.239599</td>\n",
              "      <td>0.098698</td>\n",
              "      <td>0.363787</td>\n",
              "      <td>...</td>\n",
              "      <td>-0.018307</td>\n",
              "      <td>0.277838</td>\n",
              "      <td>-0.110474</td>\n",
              "      <td>0.066928</td>\n",
              "      <td>0.128539</td>\n",
              "      <td>-0.189115</td>\n",
              "      <td>0.133558</td>\n",
              "      <td>-0.021053</td>\n",
              "      <td>149.62</td>\n",
              "      <td>0</td>\n",
              "    </tr>\n",
              "    <tr>\n",
              "      <th>1</th>\n",
              "      <td>0.0</td>\n",
              "      <td>1.191857</td>\n",
              "      <td>0.266151</td>\n",
              "      <td>0.166480</td>\n",
              "      <td>0.448154</td>\n",
              "      <td>0.060018</td>\n",
              "      <td>-0.082361</td>\n",
              "      <td>-0.078803</td>\n",
              "      <td>0.085102</td>\n",
              "      <td>-0.255425</td>\n",
              "      <td>...</td>\n",
              "      <td>-0.225775</td>\n",
              "      <td>-0.638672</td>\n",
              "      <td>0.101288</td>\n",
              "      <td>-0.339846</td>\n",
              "      <td>0.167170</td>\n",
              "      <td>0.125895</td>\n",
              "      <td>-0.008983</td>\n",
              "      <td>0.014724</td>\n",
              "      <td>2.69</td>\n",
              "      <td>0</td>\n",
              "    </tr>\n",
              "    <tr>\n",
              "      <th>2</th>\n",
              "      <td>1.0</td>\n",
              "      <td>-1.358354</td>\n",
              "      <td>-1.340163</td>\n",
              "      <td>1.773209</td>\n",
              "      <td>0.379780</td>\n",
              "      <td>-0.503198</td>\n",
              "      <td>1.800499</td>\n",
              "      <td>0.791461</td>\n",
              "      <td>0.247676</td>\n",
              "      <td>-1.514654</td>\n",
              "      <td>...</td>\n",
              "      <td>0.247998</td>\n",
              "      <td>0.771679</td>\n",
              "      <td>0.909412</td>\n",
              "      <td>-0.689281</td>\n",
              "      <td>-0.327642</td>\n",
              "      <td>-0.139097</td>\n",
              "      <td>-0.055353</td>\n",
              "      <td>-0.059752</td>\n",
              "      <td>378.66</td>\n",
              "      <td>0</td>\n",
              "    </tr>\n",
              "    <tr>\n",
              "      <th>3</th>\n",
              "      <td>1.0</td>\n",
              "      <td>-0.966272</td>\n",
              "      <td>-0.185226</td>\n",
              "      <td>1.792993</td>\n",
              "      <td>-0.863291</td>\n",
              "      <td>-0.010309</td>\n",
              "      <td>1.247203</td>\n",
              "      <td>0.237609</td>\n",
              "      <td>0.377436</td>\n",
              "      <td>-1.387024</td>\n",
              "      <td>...</td>\n",
              "      <td>-0.108300</td>\n",
              "      <td>0.005274</td>\n",
              "      <td>-0.190321</td>\n",
              "      <td>-1.175575</td>\n",
              "      <td>0.647376</td>\n",
              "      <td>-0.221929</td>\n",
              "      <td>0.062723</td>\n",
              "      <td>0.061458</td>\n",
              "      <td>123.50</td>\n",
              "      <td>0</td>\n",
              "    </tr>\n",
              "    <tr>\n",
              "      <th>4</th>\n",
              "      <td>2.0</td>\n",
              "      <td>-1.158233</td>\n",
              "      <td>0.877737</td>\n",
              "      <td>1.548718</td>\n",
              "      <td>0.403034</td>\n",
              "      <td>-0.407193</td>\n",
              "      <td>0.095921</td>\n",
              "      <td>0.592941</td>\n",
              "      <td>-0.270533</td>\n",
              "      <td>0.817739</td>\n",
              "      <td>...</td>\n",
              "      <td>-0.009431</td>\n",
              "      <td>0.798278</td>\n",
              "      <td>-0.137458</td>\n",
              "      <td>0.141267</td>\n",
              "      <td>-0.206010</td>\n",
              "      <td>0.502292</td>\n",
              "      <td>0.219422</td>\n",
              "      <td>0.215153</td>\n",
              "      <td>69.99</td>\n",
              "      <td>0</td>\n",
              "    </tr>\n",
              "    <tr>\n",
              "      <th>5</th>\n",
              "      <td>2.0</td>\n",
              "      <td>-0.425966</td>\n",
              "      <td>0.960523</td>\n",
              "      <td>1.141109</td>\n",
              "      <td>-0.168252</td>\n",
              "      <td>0.420987</td>\n",
              "      <td>-0.029728</td>\n",
              "      <td>0.476201</td>\n",
              "      <td>0.260314</td>\n",
              "      <td>-0.568671</td>\n",
              "      <td>...</td>\n",
              "      <td>-0.208254</td>\n",
              "      <td>-0.559825</td>\n",
              "      <td>-0.026398</td>\n",
              "      <td>-0.371427</td>\n",
              "      <td>-0.232794</td>\n",
              "      <td>0.105915</td>\n",
              "      <td>0.253844</td>\n",
              "      <td>0.081080</td>\n",
              "      <td>3.67</td>\n",
              "      <td>0</td>\n",
              "    </tr>\n",
              "    <tr>\n",
              "      <th>6</th>\n",
              "      <td>4.0</td>\n",
              "      <td>1.229658</td>\n",
              "      <td>0.141004</td>\n",
              "      <td>0.045371</td>\n",
              "      <td>1.202613</td>\n",
              "      <td>0.191881</td>\n",
              "      <td>0.272708</td>\n",
              "      <td>-0.005159</td>\n",
              "      <td>0.081213</td>\n",
              "      <td>0.464960</td>\n",
              "      <td>...</td>\n",
              "      <td>-0.167716</td>\n",
              "      <td>-0.270710</td>\n",
              "      <td>-0.154104</td>\n",
              "      <td>-0.780055</td>\n",
              "      <td>0.750137</td>\n",
              "      <td>-0.257237</td>\n",
              "      <td>0.034507</td>\n",
              "      <td>0.005168</td>\n",
              "      <td>4.99</td>\n",
              "      <td>0</td>\n",
              "    </tr>\n",
              "    <tr>\n",
              "      <th>7</th>\n",
              "      <td>7.0</td>\n",
              "      <td>-0.644269</td>\n",
              "      <td>1.417964</td>\n",
              "      <td>1.074380</td>\n",
              "      <td>-0.492199</td>\n",
              "      <td>0.948934</td>\n",
              "      <td>0.428118</td>\n",
              "      <td>1.120631</td>\n",
              "      <td>-3.807864</td>\n",
              "      <td>0.615375</td>\n",
              "      <td>...</td>\n",
              "      <td>1.943465</td>\n",
              "      <td>-1.015455</td>\n",
              "      <td>0.057504</td>\n",
              "      <td>-0.649709</td>\n",
              "      <td>-0.415267</td>\n",
              "      <td>-0.051634</td>\n",
              "      <td>-1.206921</td>\n",
              "      <td>-1.085339</td>\n",
              "      <td>40.80</td>\n",
              "      <td>0</td>\n",
              "    </tr>\n",
              "    <tr>\n",
              "      <th>8</th>\n",
              "      <td>7.0</td>\n",
              "      <td>-0.894286</td>\n",
              "      <td>0.286157</td>\n",
              "      <td>-0.113192</td>\n",
              "      <td>-0.271526</td>\n",
              "      <td>2.669599</td>\n",
              "      <td>3.721818</td>\n",
              "      <td>0.370145</td>\n",
              "      <td>0.851084</td>\n",
              "      <td>-0.392048</td>\n",
              "      <td>...</td>\n",
              "      <td>-0.073425</td>\n",
              "      <td>-0.268092</td>\n",
              "      <td>-0.204233</td>\n",
              "      <td>1.011592</td>\n",
              "      <td>0.373205</td>\n",
              "      <td>-0.384157</td>\n",
              "      <td>0.011747</td>\n",
              "      <td>0.142404</td>\n",
              "      <td>93.20</td>\n",
              "      <td>0</td>\n",
              "    </tr>\n",
              "    <tr>\n",
              "      <th>9</th>\n",
              "      <td>9.0</td>\n",
              "      <td>-0.338262</td>\n",
              "      <td>1.119593</td>\n",
              "      <td>1.044367</td>\n",
              "      <td>-0.222187</td>\n",
              "      <td>0.499361</td>\n",
              "      <td>-0.246761</td>\n",
              "      <td>0.651583</td>\n",
              "      <td>0.069539</td>\n",
              "      <td>-0.736727</td>\n",
              "      <td>...</td>\n",
              "      <td>-0.246914</td>\n",
              "      <td>-0.633753</td>\n",
              "      <td>-0.120794</td>\n",
              "      <td>-0.385050</td>\n",
              "      <td>-0.069733</td>\n",
              "      <td>0.094199</td>\n",
              "      <td>0.246219</td>\n",
              "      <td>0.083076</td>\n",
              "      <td>3.68</td>\n",
              "      <td>0</td>\n",
              "    </tr>\n",
              "  </tbody>\n",
              "</table>\n",
              "<p>10 rows × 31 columns</p>\n",
              "</div>\n",
              "    <div class=\"colab-df-buttons\">\n",
              "\n",
              "  <div class=\"colab-df-container\">\n",
              "    <button class=\"colab-df-convert\" onclick=\"convertToInteractive('df-e33b6bfe-1081-4a98-b99b-38fefe04866c')\"\n",
              "            title=\"Convert this dataframe to an interactive table.\"\n",
              "            style=\"display:none;\">\n",
              "\n",
              "  <svg xmlns=\"http://www.w3.org/2000/svg\" height=\"24px\" viewBox=\"0 -960 960 960\">\n",
              "    <path d=\"M120-120v-720h720v720H120Zm60-500h600v-160H180v160Zm220 220h160v-160H400v160Zm0 220h160v-160H400v160ZM180-400h160v-160H180v160Zm440 0h160v-160H620v160ZM180-180h160v-160H180v160Zm440 0h160v-160H620v160Z\"/>\n",
              "  </svg>\n",
              "    </button>\n",
              "\n",
              "  <style>\n",
              "    .colab-df-container {\n",
              "      display:flex;\n",
              "      gap: 12px;\n",
              "    }\n",
              "\n",
              "    .colab-df-convert {\n",
              "      background-color: #E8F0FE;\n",
              "      border: none;\n",
              "      border-radius: 50%;\n",
              "      cursor: pointer;\n",
              "      display: none;\n",
              "      fill: #1967D2;\n",
              "      height: 32px;\n",
              "      padding: 0 0 0 0;\n",
              "      width: 32px;\n",
              "    }\n",
              "\n",
              "    .colab-df-convert:hover {\n",
              "      background-color: #E2EBFA;\n",
              "      box-shadow: 0px 1px 2px rgba(60, 64, 67, 0.3), 0px 1px 3px 1px rgba(60, 64, 67, 0.15);\n",
              "      fill: #174EA6;\n",
              "    }\n",
              "\n",
              "    .colab-df-buttons div {\n",
              "      margin-bottom: 4px;\n",
              "    }\n",
              "\n",
              "    [theme=dark] .colab-df-convert {\n",
              "      background-color: #3B4455;\n",
              "      fill: #D2E3FC;\n",
              "    }\n",
              "\n",
              "    [theme=dark] .colab-df-convert:hover {\n",
              "      background-color: #434B5C;\n",
              "      box-shadow: 0px 1px 3px 1px rgba(0, 0, 0, 0.15);\n",
              "      filter: drop-shadow(0px 1px 2px rgba(0, 0, 0, 0.3));\n",
              "      fill: #FFFFFF;\n",
              "    }\n",
              "  </style>\n",
              "\n",
              "    <script>\n",
              "      const buttonEl =\n",
              "        document.querySelector('#df-e33b6bfe-1081-4a98-b99b-38fefe04866c button.colab-df-convert');\n",
              "      buttonEl.style.display =\n",
              "        google.colab.kernel.accessAllowed ? 'block' : 'none';\n",
              "\n",
              "      async function convertToInteractive(key) {\n",
              "        const element = document.querySelector('#df-e33b6bfe-1081-4a98-b99b-38fefe04866c');\n",
              "        const dataTable =\n",
              "          await google.colab.kernel.invokeFunction('convertToInteractive',\n",
              "                                                    [key], {});\n",
              "        if (!dataTable) return;\n",
              "\n",
              "        const docLinkHtml = 'Like what you see? Visit the ' +\n",
              "          '<a target=\"_blank\" href=https://colab.research.google.com/notebooks/data_table.ipynb>data table notebook</a>'\n",
              "          + ' to learn more about interactive tables.';\n",
              "        element.innerHTML = '';\n",
              "        dataTable['output_type'] = 'display_data';\n",
              "        await google.colab.output.renderOutput(dataTable, element);\n",
              "        const docLink = document.createElement('div');\n",
              "        docLink.innerHTML = docLinkHtml;\n",
              "        element.appendChild(docLink);\n",
              "      }\n",
              "    </script>\n",
              "  </div>\n",
              "\n",
              "\n",
              "<div id=\"df-f4f1540b-bab0-4e02-bbaf-bf3c9344b17e\">\n",
              "  <button class=\"colab-df-quickchart\" onclick=\"quickchart('df-f4f1540b-bab0-4e02-bbaf-bf3c9344b17e')\"\n",
              "            title=\"Suggest charts\"\n",
              "            style=\"display:none;\">\n",
              "\n",
              "<svg xmlns=\"http://www.w3.org/2000/svg\" height=\"24px\"viewBox=\"0 0 24 24\"\n",
              "     width=\"24px\">\n",
              "    <g>\n",
              "        <path d=\"M19 3H5c-1.1 0-2 .9-2 2v14c0 1.1.9 2 2 2h14c1.1 0 2-.9 2-2V5c0-1.1-.9-2-2-2zM9 17H7v-7h2v7zm4 0h-2V7h2v10zm4 0h-2v-4h2v4z\"/>\n",
              "    </g>\n",
              "</svg>\n",
              "  </button>\n",
              "\n",
              "<style>\n",
              "  .colab-df-quickchart {\n",
              "      --bg-color: #E8F0FE;\n",
              "      --fill-color: #1967D2;\n",
              "      --hover-bg-color: #E2EBFA;\n",
              "      --hover-fill-color: #174EA6;\n",
              "      --disabled-fill-color: #AAA;\n",
              "      --disabled-bg-color: #DDD;\n",
              "  }\n",
              "\n",
              "  [theme=dark] .colab-df-quickchart {\n",
              "      --bg-color: #3B4455;\n",
              "      --fill-color: #D2E3FC;\n",
              "      --hover-bg-color: #434B5C;\n",
              "      --hover-fill-color: #FFFFFF;\n",
              "      --disabled-bg-color: #3B4455;\n",
              "      --disabled-fill-color: #666;\n",
              "  }\n",
              "\n",
              "  .colab-df-quickchart {\n",
              "    background-color: var(--bg-color);\n",
              "    border: none;\n",
              "    border-radius: 50%;\n",
              "    cursor: pointer;\n",
              "    display: none;\n",
              "    fill: var(--fill-color);\n",
              "    height: 32px;\n",
              "    padding: 0;\n",
              "    width: 32px;\n",
              "  }\n",
              "\n",
              "  .colab-df-quickchart:hover {\n",
              "    background-color: var(--hover-bg-color);\n",
              "    box-shadow: 0 1px 2px rgba(60, 64, 67, 0.3), 0 1px 3px 1px rgba(60, 64, 67, 0.15);\n",
              "    fill: var(--button-hover-fill-color);\n",
              "  }\n",
              "\n",
              "  .colab-df-quickchart-complete:disabled,\n",
              "  .colab-df-quickchart-complete:disabled:hover {\n",
              "    background-color: var(--disabled-bg-color);\n",
              "    fill: var(--disabled-fill-color);\n",
              "    box-shadow: none;\n",
              "  }\n",
              "\n",
              "  .colab-df-spinner {\n",
              "    border: 2px solid var(--fill-color);\n",
              "    border-color: transparent;\n",
              "    border-bottom-color: var(--fill-color);\n",
              "    animation:\n",
              "      spin 1s steps(1) infinite;\n",
              "  }\n",
              "\n",
              "  @keyframes spin {\n",
              "    0% {\n",
              "      border-color: transparent;\n",
              "      border-bottom-color: var(--fill-color);\n",
              "      border-left-color: var(--fill-color);\n",
              "    }\n",
              "    20% {\n",
              "      border-color: transparent;\n",
              "      border-left-color: var(--fill-color);\n",
              "      border-top-color: var(--fill-color);\n",
              "    }\n",
              "    30% {\n",
              "      border-color: transparent;\n",
              "      border-left-color: var(--fill-color);\n",
              "      border-top-color: var(--fill-color);\n",
              "      border-right-color: var(--fill-color);\n",
              "    }\n",
              "    40% {\n",
              "      border-color: transparent;\n",
              "      border-right-color: var(--fill-color);\n",
              "      border-top-color: var(--fill-color);\n",
              "    }\n",
              "    60% {\n",
              "      border-color: transparent;\n",
              "      border-right-color: var(--fill-color);\n",
              "    }\n",
              "    80% {\n",
              "      border-color: transparent;\n",
              "      border-right-color: var(--fill-color);\n",
              "      border-bottom-color: var(--fill-color);\n",
              "    }\n",
              "    90% {\n",
              "      border-color: transparent;\n",
              "      border-bottom-color: var(--fill-color);\n",
              "    }\n",
              "  }\n",
              "</style>\n",
              "\n",
              "  <script>\n",
              "    async function quickchart(key) {\n",
              "      const quickchartButtonEl =\n",
              "        document.querySelector('#' + key + ' button');\n",
              "      quickchartButtonEl.disabled = true;  // To prevent multiple clicks.\n",
              "      quickchartButtonEl.classList.add('colab-df-spinner');\n",
              "      try {\n",
              "        const charts = await google.colab.kernel.invokeFunction(\n",
              "            'suggestCharts', [key], {});\n",
              "      } catch (error) {\n",
              "        console.error('Error during call to suggestCharts:', error);\n",
              "      }\n",
              "      quickchartButtonEl.classList.remove('colab-df-spinner');\n",
              "      quickchartButtonEl.classList.add('colab-df-quickchart-complete');\n",
              "    }\n",
              "    (() => {\n",
              "      let quickchartButtonEl =\n",
              "        document.querySelector('#df-f4f1540b-bab0-4e02-bbaf-bf3c9344b17e button');\n",
              "      quickchartButtonEl.style.display =\n",
              "        google.colab.kernel.accessAllowed ? 'block' : 'none';\n",
              "    })();\n",
              "  </script>\n",
              "</div>\n",
              "\n",
              "    </div>\n",
              "  </div>\n"
            ],
            "text/plain": [
              "   Time        V1        V2        V3        V4        V5        V6        V7  \\\n",
              "0   0.0 -1.359807 -0.072781  2.536347  1.378155 -0.338321  0.462388  0.239599   \n",
              "1   0.0  1.191857  0.266151  0.166480  0.448154  0.060018 -0.082361 -0.078803   \n",
              "2   1.0 -1.358354 -1.340163  1.773209  0.379780 -0.503198  1.800499  0.791461   \n",
              "3   1.0 -0.966272 -0.185226  1.792993 -0.863291 -0.010309  1.247203  0.237609   \n",
              "4   2.0 -1.158233  0.877737  1.548718  0.403034 -0.407193  0.095921  0.592941   \n",
              "5   2.0 -0.425966  0.960523  1.141109 -0.168252  0.420987 -0.029728  0.476201   \n",
              "6   4.0  1.229658  0.141004  0.045371  1.202613  0.191881  0.272708 -0.005159   \n",
              "7   7.0 -0.644269  1.417964  1.074380 -0.492199  0.948934  0.428118  1.120631   \n",
              "8   7.0 -0.894286  0.286157 -0.113192 -0.271526  2.669599  3.721818  0.370145   \n",
              "9   9.0 -0.338262  1.119593  1.044367 -0.222187  0.499361 -0.246761  0.651583   \n",
              "\n",
              "         V8        V9  ...       V21       V22       V23       V24       V25  \\\n",
              "0  0.098698  0.363787  ... -0.018307  0.277838 -0.110474  0.066928  0.128539   \n",
              "1  0.085102 -0.255425  ... -0.225775 -0.638672  0.101288 -0.339846  0.167170   \n",
              "2  0.247676 -1.514654  ...  0.247998  0.771679  0.909412 -0.689281 -0.327642   \n",
              "3  0.377436 -1.387024  ... -0.108300  0.005274 -0.190321 -1.175575  0.647376   \n",
              "4 -0.270533  0.817739  ... -0.009431  0.798278 -0.137458  0.141267 -0.206010   \n",
              "5  0.260314 -0.568671  ... -0.208254 -0.559825 -0.026398 -0.371427 -0.232794   \n",
              "6  0.081213  0.464960  ... -0.167716 -0.270710 -0.154104 -0.780055  0.750137   \n",
              "7 -3.807864  0.615375  ...  1.943465 -1.015455  0.057504 -0.649709 -0.415267   \n",
              "8  0.851084 -0.392048  ... -0.073425 -0.268092 -0.204233  1.011592  0.373205   \n",
              "9  0.069539 -0.736727  ... -0.246914 -0.633753 -0.120794 -0.385050 -0.069733   \n",
              "\n",
              "        V26       V27       V28  Amount  Class  \n",
              "0 -0.189115  0.133558 -0.021053  149.62      0  \n",
              "1  0.125895 -0.008983  0.014724    2.69      0  \n",
              "2 -0.139097 -0.055353 -0.059752  378.66      0  \n",
              "3 -0.221929  0.062723  0.061458  123.50      0  \n",
              "4  0.502292  0.219422  0.215153   69.99      0  \n",
              "5  0.105915  0.253844  0.081080    3.67      0  \n",
              "6 -0.257237  0.034507  0.005168    4.99      0  \n",
              "7 -0.051634 -1.206921 -1.085339   40.80      0  \n",
              "8 -0.384157  0.011747  0.142404   93.20      0  \n",
              "9  0.094199  0.246219  0.083076    3.68      0  \n",
              "\n",
              "[10 rows x 31 columns]"
            ]
          },
          "execution_count": 97,
          "metadata": {},
          "output_type": "execute_result"
        }
      ],
      "source": [
        "dados = pd.read_csv('/content/drive/MyDrive/Colab Notebooks/Portfólio Machine Learning/Datasets/creditcard.csv')\n",
        "dados.head(10)"
      ]
    },
    {
      "cell_type": "code",
      "execution_count": null,
      "metadata": {
        "colab": {
          "base_uri": "https://localhost:8080/"
        },
        "id": "NmOwdZGx5rI8",
        "outputId": "05e64638-c81e-446e-c30b-c8142cb5d05f"
      },
      "outputs": [
        {
          "name": "stdout",
          "output_type": "stream",
          "text": [
            "Time      0\n",
            "V1        0\n",
            "V2        0\n",
            "V3        0\n",
            "V4        0\n",
            "V5        0\n",
            "V6        0\n",
            "V7        0\n",
            "V8        0\n",
            "V9        0\n",
            "V10       0\n",
            "V11       0\n",
            "V12       0\n",
            "V13       0\n",
            "V14       0\n",
            "V15       0\n",
            "V16       0\n",
            "V17       0\n",
            "V18       0\n",
            "V19       0\n",
            "V20       0\n",
            "V21       0\n",
            "V22       0\n",
            "V23       0\n",
            "V24       0\n",
            "V25       0\n",
            "V26       0\n",
            "V27       0\n",
            "V28       0\n",
            "Amount    0\n",
            "Class     0\n",
            "dtype: int64\n"
          ]
        }
      ],
      "source": [
        "print(dados.isna().sum())"
      ]
    },
    {
      "cell_type": "code",
      "execution_count": null,
      "metadata": {
        "colab": {
          "base_uri": "https://localhost:8080/"
        },
        "id": "Z_jsCPJk6Rt5",
        "outputId": "4bb60b9b-41b4-4839-849c-11b291c231ec"
      },
      "outputs": [
        {
          "name": "stdout",
          "output_type": "stream",
          "text": [
            "Número de transações: 284807\n",
            "Número de fraudes: 492, 0.17%\n",
            "Número de transacoes normais: 284315, 99.83%\n"
          ]
        }
      ],
      "source": [
        "# Levantamento de dados das transações\n",
        "n_transacoes = dados['Class'].count()\n",
        "print(f\"Número de transações: {n_transacoes}\")\n",
        "n_fraudes = dados['Class'].sum()\n",
        "fraudes_perc = n_fraudes / n_transacoes\n",
        "print(f\"Número de fraudes: {n_fraudes}, {fraudes_perc:.2%}\")\n",
        "n_normais = n_transacoes - n_fraudes\n",
        "normais_perc = n_normais / n_transacoes\n",
        "print(f\"Número de transacoes normais: {n_normais}, {normais_perc:.2%}\")"
      ]
    },
    {
      "cell_type": "code",
      "execution_count": null,
      "metadata": {
        "id": "fTPPCfVuAEZo"
      },
      "outputs": [],
      "source": [
        "# Separando dados em treino e teste\n",
        "from sklearn.model_selection import StratifiedShuffleSplit\n",
        "\n",
        "def executar_validador(X, y):\n",
        "  validador = StratifiedShuffleSplit(n_splits=1, test_size=0.1, random_state=0)\n",
        "  for treino_id, teste_id in validador.split(X, y):\n",
        "    X_train, X_test = X[treino_id], X[teste_id]\n",
        "    y_train, y_test = y[treino_id], y[teste_id]\n",
        "  return X_train, X_test, y_train, y_test\n"
      ]
    },
    {
      "cell_type": "code",
      "execution_count": null,
      "metadata": {
        "colab": {
          "base_uri": "https://localhost:8080/"
        },
        "id": "Fxcv63YDAEvP",
        "outputId": "34a026ec-7a54-413b-a8b1-9e2da18aae3a"
      },
      "outputs": [
        {
          "name": "stdout",
          "output_type": "stream",
          "text": [
            "CPU times: user 16 µs, sys: 0 ns, total: 16 µs\n",
            "Wall time: 20 µs\n"
          ]
        }
      ],
      "source": [
        "%%time\n",
        "from sklearn import tree\n",
        "\n",
        "def executar_classificador(classificador, X_train, X_test, y_train):\n",
        "  arvore = classificador.fit(X_train, y_train)\n",
        "  y_pred = arvore.predict(X_test)\n",
        "  return y_pred"
      ]
    },
    {
      "cell_type": "code",
      "execution_count": null,
      "metadata": {
        "id": "DH-vD79DG5YB"
      },
      "outputs": [],
      "source": [
        "import matplotlib.pyplot as plt\n",
        "\n",
        "def mostrar_arvore(classificador, nome):\n",
        "  plt.figure(figsize=(200,100))\n",
        "  tree.plot_tree(classificador, filled=True, fontsize=14)\n",
        "  plt.savefig(f\"{nome}.png\")\n",
        "  plt.close()"
      ]
    },
    {
      "cell_type": "code",
      "execution_count": null,
      "metadata": {
        "id": "5sOTd4iM0v4W"
      },
      "outputs": [],
      "source": [
        "from sklearn.metrics import accuracy_score, confusion_matrix, precision_score, recall_score\n",
        "\n",
        "def validar_arvore(y_test, y_pred):\n",
        "  print(accuracy_score(y_test, y_pred))\n",
        "  print(precision_score(y_test, y_pred))\n",
        "  print(recall_score(y_test, y_pred))\n",
        "  print(confusion_matrix(y_test, y_pred))"
      ]
    },
    {
      "cell_type": "code",
      "execution_count": null,
      "metadata": {
        "id": "vgLMFzhNDWuT"
      },
      "outputs": [],
      "source": [
        "# Execução do validador\n",
        "X = dados.drop('Class', axis=1).values\n",
        "y = dados['Class'].values\n",
        "X_train, X_test, y_train, y_test = executar_validador(X, y)"
      ]
    },
    {
      "cell_type": "code",
      "execution_count": null,
      "metadata": {
        "id": "gWwb1DxbHHbv"
      },
      "outputs": [],
      "source": [
        "#execucao do classificador DecisionTreeClassifier\n",
        "classificador_arvore_decisao = tree.DecisionTreeClassifier()\n",
        "y_pred_arvore_decisao = executar_classificador(classificador_arvore_decisao, X_train, X_test, y_train)"
      ]
    },
    {
      "cell_type": "code",
      "execution_count": null,
      "metadata": {
        "id": "7SJc4tUGrd6P"
      },
      "outputs": [],
      "source": [
        "# Criacao da figura\n",
        "mostrar_arvore(classificador_arvore_decisao, \"arvore_decisao\")"
      ]
    },
    {
      "cell_type": "code",
      "execution_count": null,
      "metadata": {
        "colab": {
          "base_uri": "https://localhost:8080/"
        },
        "id": "JdOCJ3LofoUl",
        "outputId": "c8d68606-a6b1-49ed-bb68-88620ada7e2e"
      },
      "outputs": [
        {
          "name": "stdout",
          "output_type": "stream",
          "text": [
            "0.9989817773252344\n",
            "0.7\n",
            "0.7142857142857143\n",
            "[[28417    15]\n",
            " [   14    35]]\n"
          ]
        }
      ],
      "source": [
        "# Validar árvore\n",
        "validar_arvore(y_test, y_pred_arvore_decisao)"
      ]
    },
    {
      "cell_type": "markdown",
      "metadata": {
        "id": "I9qMGVu32zIt"
      },
      "source": [
        "##AJUDA PARA ENTENDIMENTO DOS CÁLCULOS\n",
        "![images.png](data:image/png;base64,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)\n",
        "\n",
        "A acurácia:\n",
        "\n",
        "\\begin{align*}\n",
        "  x &= \\dfrac{TP+TN}{TP+TN+FN+FP}\n",
        "\\end{align*}\n",
        "\n",
        "A precisao:\n",
        "\n",
        "\\begin{align*}\n",
        "  x &= \\dfrac{TP}{FP+TP}\n",
        "\\end{align*}\n",
        "\n",
        "A recall:\n",
        "\n",
        "\\begin{align*}\n",
        "  x &= \\dfrac{TP}{FN+TP}\n",
        "\\end{align*}\n",
        "\n"
      ]
    },
    {
      "cell_type": "code",
      "execution_count": null,
      "metadata": {
        "colab": {
          "base_uri": "https://localhost:8080/"
        },
        "id": "-9ldcmzRfEar",
        "outputId": "764cbd76-d333-473e-da21-2f893b55db7e"
      },
      "outputs": [
        {
          "name": "stdout",
          "output_type": "stream",
          "text": [
            "<bound method BaseDecisionTree.get_depth of DecisionTreeClassifier()>\n"
          ]
        }
      ],
      "source": [
        "print(classificador_arvore_decisao.get_depth)\n"
      ]
    },
    {
      "cell_type": "code",
      "execution_count": null,
      "metadata": {
        "colab": {
          "base_uri": "https://localhost:8080/"
        },
        "id": "HDEFlUe3f6Vz",
        "outputId": "92ea7442-3bba-45e9-9a94-65d5db298588"
      },
      "outputs": [
        {
          "name": "stdout",
          "output_type": "stream",
          "text": [
            "CPU times: user 24.3 s, sys: 22.2 ms, total: 24.3 s\n",
            "Wall time: 24.5 s\n"
          ]
        }
      ],
      "source": [
        "%%time\n",
        "# Execução do classificador determinando a profundidade(melhor dos testes)\n",
        "classificador_arvore_decisao = tree.DecisionTreeClassifier(max_depth=10, random_state=0)\n",
        "y_pred_arvore_decisao = executar_classificador(classificador_arvore_decisao, X_train, X_test, y_train)"
      ]
    },
    {
      "cell_type": "code",
      "execution_count": null,
      "metadata": {
        "colab": {
          "base_uri": "https://localhost:8080/"
        },
        "id": "pBepisv9gKwx",
        "outputId": "67879774-b9cd-4a5c-b7c2-c8625efe91a0"
      },
      "outputs": [
        {
          "name": "stdout",
          "output_type": "stream",
          "text": [
            "0.9994733330992591\n",
            "0.9473684210526315\n",
            "0.7346938775510204\n",
            "[[28430     2]\n",
            " [   13    36]]\n"
          ]
        }
      ],
      "source": [
        "validar_arvore(y_test, y_pred_arvore_decisao)"
      ]
    },
    {
      "cell_type": "code",
      "execution_count": null,
      "metadata": {
        "id": "WWjD_027gXVA"
      },
      "outputs": [],
      "source": [
        "# Execução do classificador determinando a profundidade e quantidade de folhas\n",
        "classificador_arvore_decisao = tree.DecisionTreeClassifier(max_depth=10, random_state=0, min_samples_leaf=10)\n",
        "y_pred_arvore_decisao = executar_classificador(classificador_arvore_decisao, X_train, X_test, y_train)"
      ]
    },
    {
      "cell_type": "code",
      "execution_count": null,
      "metadata": {
        "colab": {
          "base_uri": "https://localhost:8080/"
        },
        "id": "9z7pFi-GggLA",
        "outputId": "d731c369-9b3f-4139-8629-459fde706d37"
      },
      "outputs": [
        {
          "name": "stdout",
          "output_type": "stream",
          "text": [
            "0.9993679997191109\n",
            "0.8604651162790697\n",
            "0.7551020408163265\n",
            "[[28426     6]\n",
            " [   12    37]]\n"
          ]
        }
      ],
      "source": [
        "validar_arvore(y_test, y_pred_arvore_decisao)"
      ]
    },
    {
      "cell_type": "markdown",
      "metadata": {
        "id": "asoR6VewibB8"
      },
      "source": [
        "Verificamos que a parametrização de somente determinar a profundidade é melhor"
      ]
    },
    {
      "cell_type": "code",
      "execution_count": null,
      "metadata": {
        "id": "MbLtVP_Bi8KG"
      },
      "outputs": [],
      "source": [
        "# Execução do classificador determinando a profundidade\n",
        "classificador_arvore_decisao = tree.DecisionTreeClassifier(max_depth=5, random_state=0)\n",
        "y_pred_arvore_decisao = executar_classificador(classificador_arvore_decisao, X_train, X_test, y_train)"
      ]
    },
    {
      "cell_type": "code",
      "execution_count": null,
      "metadata": {
        "colab": {
          "base_uri": "https://localhost:8080/"
        },
        "id": "9-LK6QHMjIQF",
        "outputId": "5f3030ab-6de8-4c61-a102-6c766fbe4630"
      },
      "outputs": [
        {
          "name": "stdout",
          "output_type": "stream",
          "text": [
            "0.999403110845827\n",
            "0.9210526315789473\n",
            "0.7142857142857143\n",
            "[[28429     3]\n",
            " [   14    35]]\n"
          ]
        }
      ],
      "source": [
        "validar_arvore(y_test, y_pred_arvore_decisao)"
      ]
    },
    {
      "cell_type": "code",
      "execution_count": null,
      "metadata": {
        "colab": {
          "base_uri": "https://localhost:8080/"
        },
        "id": "b__9VA_bpHJA",
        "outputId": "b8cdc5a1-6ae6-4186-9531-7ab3eea63b2d"
      },
      "outputs": [
        {
          "name": "stdout",
          "output_type": "stream",
          "text": [
            "CPU times: user 8min 16s, sys: 537 ms, total: 8min 16s\n",
            "Wall time: 8min 20s\n"
          ]
        }
      ],
      "source": [
        "# Utilizando RandomForest\n",
        "%%time\n",
        "from sklearn.ensemble import RandomForestClassifier\n",
        "\n",
        "classificador_random_forest = RandomForestClassifier(n_estimators=100, random_state=0)\n",
        "y_pred_arvore_forest = executar_classificador(classificador_random_forest, X_train, X_test, y_train)"
      ]
    },
    {
      "cell_type": "code",
      "execution_count": null,
      "metadata": {
        "id": "-SEkd_JQplW3"
      },
      "outputs": [],
      "source": [
        "mostrar_arvore(classificador_random_forest.estimators_[0], 'random forest1')\n",
        "mostrar_arvore(classificador_random_forest.estimators_[1], 'random forest1')"
      ]
    },
    {
      "cell_type": "code",
      "execution_count": null,
      "metadata": {
        "colab": {
          "base_uri": "https://localhost:8080/"
        },
        "id": "OHNg8-K1tfGe",
        "outputId": "629760ea-44f9-4407-ca96-831710e4cb7f"
      },
      "outputs": [
        {
          "name": "stdout",
          "output_type": "stream",
          "text": [
            "0.9995084442259752\n",
            "0.9487179487179487\n",
            "0.7551020408163265\n",
            "[[28430     2]\n",
            " [   12    37]]\n"
          ]
        }
      ],
      "source": [
        "validar_arvore(y_test, y_pred_arvore_forest)"
      ]
    },
    {
      "cell_type": "code",
      "execution_count": null,
      "metadata": {
        "colab": {
          "background_save": true
        },
        "id": "A9z4YEB4tzqB",
        "outputId": "4076c812-0e94-46ea-b144-4844d7f7694f"
      },
      "outputs": [
        {
          "name": "stdout",
          "output_type": "stream",
          "text": [
            "CPU times: user 2min 30s, sys: 145 ms, total: 2min 31s\n",
            "Wall time: 2min 32s\n"
          ]
        }
      ],
      "source": [
        "# RandomForest com menos árvores - 50 e profundidade determinada em 10, para reduzir o tempo de processo\n",
        "%%time\n",
        "from sklearn.ensemble import RandomForestClassifier\n",
        "\n",
        "classificador_random_forest = RandomForestClassifier(n_estimators=50, random_state=0, max_depth=10)\n",
        "y_pred_arvore_forest = executar_classificador(classificador_random_forest, X_train, X_test, y_train)\n"
      ]
    },
    {
      "cell_type": "code",
      "execution_count": null,
      "metadata": {
        "colab": {
          "background_save": true
        },
        "id": "Vl7AiscZt-ly",
        "outputId": "d571fb62-0f69-4923-c9a7-958ba0ddd6ff"
      },
      "outputs": [
        {
          "name": "stdout",
          "output_type": "stream",
          "text": [
            "0.9995435553526912\n",
            "0.9736842105263158\n",
            "0.7551020408163265\n",
            "[[28431     1]\n",
            " [   12    37]]\n"
          ]
        }
      ],
      "source": [
        "validar_arvore(y_test, y_pred_arvore_forest)"
      ]
    },
    {
      "cell_type": "code",
      "execution_count": null,
      "metadata": {
        "colab": {
          "background_save": true
        },
        "id": "rf7FzvlI33CW",
        "outputId": "16b05fb5-5b82-40ce-948c-e972ea8c796f"
      },
      "outputs": [
        {
          "name": "stdout",
          "output_type": "stream",
          "text": [
            "CPU times: user 2min 21s, sys: 99.1 ms, total: 2min 21s\n",
            "Wall time: 2min 22s\n"
          ]
        }
      ],
      "source": [
        "# Utilizando Adaboost\n",
        "%%time\n",
        "from sklearn.ensemble import AdaBoostClassifier\n",
        "\n",
        "classificador_adaboost = AdaBoostClassifier(random_state=0)\n",
        "y_pred_arvore_adaboost = executar_classificador(classificador_adaboost, X_train, X_test, y_train)"
      ]
    },
    {
      "cell_type": "code",
      "execution_count": null,
      "metadata": {
        "colab": {
          "background_save": true
        },
        "id": "c0QpOndG4S1B"
      },
      "outputs": [],
      "source": [
        "mostrar_arvore(classificador_adaboost.estimators_[0], 'adaboost1')\n",
        "mostrar_arvore(classificador_adaboost.estimators_[1], 'adaboost2')"
      ]
    },
    {
      "cell_type": "code",
      "execution_count": null,
      "metadata": {
        "colab": {
          "background_save": true
        },
        "id": "cdipasuM4g3z",
        "outputId": "992c6939-b212-49bd-9af8-df0828ffee3e"
      },
      "outputs": [
        {
          "name": "stdout",
          "output_type": "stream",
          "text": [
            "0.9989817773252344\n",
            "0.7272727272727273\n",
            "0.6530612244897959\n",
            "[[28420    12]\n",
            " [   17    32]]\n"
          ]
        }
      ],
      "source": [
        "validar_arvore(y_test, y_pred_arvore_adaboost)"
      ]
    },
    {
      "cell_type": "code",
      "execution_count": null,
      "metadata": {
        "colab": {
          "background_save": true
        },
        "id": "qAvBFpEp5aET",
        "outputId": "4504b42c-f35b-4449-f860-e00460666927"
      },
      "outputs": [
        {
          "name": "stdout",
          "output_type": "stream",
          "text": [
            "CPU times: user 4min 44s, sys: 210 ms, total: 4min 45s\n",
            "Wall time: 4min 47s\n"
          ]
        }
      ],
      "source": [
        "%%time\n",
        "from sklearn.ensemble import AdaBoostClassifier\n",
        "\n",
        "classificador_adaboost = AdaBoostClassifier(random_state=0, n_estimators=100)\n",
        "y_pred_arvore_adaboost = executar_classificador(classificador_adaboost, X_train, X_test, y_train)"
      ]
    },
    {
      "cell_type": "code",
      "execution_count": null,
      "metadata": {
        "colab": {
          "background_save": true
        },
        "id": "Mz6zrxSF5iEh",
        "outputId": "769f8d54-7830-400e-c149-02f1ff0309cf"
      },
      "outputs": [
        {
          "name": "stdout",
          "output_type": "stream",
          "text": [
            "0.9990168884519505\n",
            "0.723404255319149\n",
            "0.6938775510204082\n",
            "[[28419    13]\n",
            " [   15    34]]\n"
          ]
        }
      ],
      "source": [
        "validar_arvore(y_test, y_pred_arvore_adaboost)"
      ]
    },
    {
      "cell_type": "code",
      "execution_count": null,
      "metadata": {
        "colab": {
          "background_save": true
        },
        "id": "bbpxutT5_eyc",
        "outputId": "3f4d6c6a-1ed7-4c99-8d38-8a7bb1684a65"
      },
      "outputs": [
        {
          "name": "stdout",
          "output_type": "stream",
          "text": [
            "CPU times: user 9min 12s, sys: 359 ms, total: 9min 12s\n",
            "Wall time: 9min 16s\n"
          ]
        }
      ],
      "source": [
        "%%time\n",
        "from sklearn.ensemble import AdaBoostClassifier\n",
        "\n",
        "classificador_adaboost = AdaBoostClassifier(random_state=0, n_estimators=200)\n",
        "y_pred_arvore_adaboost = executar_classificador(classificador_adaboost, X_train, X_test, y_train)"
      ]
    },
    {
      "cell_type": "code",
      "execution_count": null,
      "metadata": {
        "id": "kLv4ziG6_gvs"
      },
      "outputs": [],
      "source": [
        "validar_arvore(y_test, y_pred_arvore_adaboost)"
      ]
    }
  ],
  "metadata": {
    "colab": {
      "provenance": [],
      "mount_file_id": "1dyoKCexya2YoQ6AQjOCtqp89s3cYL7O6",
      "authorship_tag": "ABX9TyPrdj3lBNYmxHke0ZoDsPU2",
      "include_colab_link": true
    },
    "kernelspec": {
      "display_name": "Python 3",
      "name": "python3"
    },
    "language_info": {
      "name": "python"
    }
  },
  "nbformat": 4,
  "nbformat_minor": 0
}